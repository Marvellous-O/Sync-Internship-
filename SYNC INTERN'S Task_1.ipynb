{
 "cells": [
  {
   "cell_type": "markdown",
   "id": "1445ec85",
   "metadata": {},
   "source": [
    "## TASK ONE: Build an Alarm Clock"
   ]
  },
  {
   "cell_type": "markdown",
   "id": "d6c9d177",
   "metadata": {},
   "source": [
    "### Importing the needed libraries"
   ]
  },
  {
   "cell_type": "code",
   "execution_count": 1,
   "id": "75d55845",
   "metadata": {},
   "outputs": [],
   "source": [
    "import tkinter as tk\n",
    "from tkinter import messagebox\n",
    "from datetime import datetime\n",
    "import time\n"
   ]
  },
  {
   "cell_type": "code",
   "execution_count": 2,
   "id": "2e00469e",
   "metadata": {},
   "outputs": [],
   "source": [
    "# creating a loop \n",
    "def set_alarm():\n",
    "    # get the alarm time from the entry widget\n",
    "    alarm_time_str = alarm_entry.get()\n",
    "    \n",
    "    #convert the alarm time string to a datetime object \n",
    "    try:\n",
    "        alarm_time = datetime.strptime(alarm_time_str, \"%H:%M\")\n",
    "    except ValueError:\n",
    "        \n",
    "        # show an error message if the time format is invalid\n",
    "        messagebox.showerror(\"Error\", \"Invalid time format. Please use HH:MM format.\")\n",
    "        return\n",
    "    # wait \n",
    "    current_time = datetime.now().strftime(\"%H:%M\")\n",
    "    while current_time != alarm_time_str:\n",
    "        current_time = datetime.now().strftime(\"%H:%M\")\n",
    "        time.sleep(1)\n",
    "\n",
    "    messagebox.showinfo(\"Alarm\", \"Wake up!\")"
   ]
  },
  {
   "cell_type": "code",
   "execution_count": 3,
   "id": "2a7185c9",
   "metadata": {},
   "outputs": [
    {
     "data": {
      "text/plain": [
       "''"
      ]
     },
     "execution_count": 3,
     "metadata": {},
     "output_type": "execute_result"
    }
   ],
   "source": [
    "# create the tkinter application window\n",
    "app=tk.Tk()\n",
    "app.title(\"Alarm Clock\")"
   ]
  },
  {
   "cell_type": "code",
   "execution_count": 4,
   "id": "ab100071",
   "metadata": {},
   "outputs": [],
   "source": [
    "# Create and configure the widgets\n",
    "alarm_label = tk.Label(app, text=\"Enter alarm time (HH:MM):\")\n",
    "alarm_label.pack(pady=10)"
   ]
  },
  {
   "cell_type": "code",
   "execution_count": 5,
   "id": "9cad0096",
   "metadata": {},
   "outputs": [],
   "source": [
    "alarm_entry = tk.Entry(app, font=(\"Helvetica\", 24))\n",
    "alarm_entry.pack(pady=10)"
   ]
  },
  {
   "cell_type": "code",
   "execution_count": 6,
   "id": "e67a84b3",
   "metadata": {},
   "outputs": [],
   "source": [
    "set_alarm_button = tk.Button(app, text=\"Set Alarm\", command=set_alarm)\n",
    "set_alarm_button.pack(pady=20)"
   ]
  },
  {
   "cell_type": "code",
   "execution_count": null,
   "id": "ecc99089",
   "metadata": {},
   "outputs": [],
   "source": [
    "#start the main event loop\n",
    "app.mainloop()"
   ]
  },
  {
   "cell_type": "code",
   "execution_count": null,
   "id": "ee548741",
   "metadata": {},
   "outputs": [],
   "source": []
  }
 ],
 "metadata": {
  "kernelspec": {
   "display_name": "Python 3 (ipykernel)",
   "language": "python",
   "name": "python3"
  },
  "language_info": {
   "codemirror_mode": {
    "name": "ipython",
    "version": 3
   },
   "file_extension": ".py",
   "mimetype": "text/x-python",
   "name": "python",
   "nbconvert_exporter": "python",
   "pygments_lexer": "ipython3",
   "version": "3.9.12"
  }
 },
 "nbformat": 4,
 "nbformat_minor": 5
}
